{
 "cells": [
  {
   "cell_type": "code",
   "execution_count": null,
   "metadata": {},
   "outputs": [],
   "source": [
    "from gensim.models import KeyedVectors\n",
    "import spacy\n",
    "import random\n",
    "nlp = spacy.load('en_core_web_sm')    \n",
    "gmodel=KeyedVectors.load_word2vec_format(\"GoogleNews-vectors-negative300.bin\", binary=True)"
   ]
  },
  {
   "cell_type": "code",
   "execution_count": 10,
   "metadata": {},
   "outputs": [
    {
     "name": "stderr",
     "output_type": "stream",
     "text": [
      "C:\\ProgramData\\Anaconda3\\lib\\site-packages\\gensim\\matutils.py:737: FutureWarning: Conversion of the second argument of issubdtype from `int` to `np.signedinteger` is deprecated. In future, it will be treated as `np.int32 == np.dtype(int).type`.\n",
      "  if np.issubdtype(vec.dtype, np.int):\n"
     ]
    },
    {
     "name": "stdout",
     "output_type": "stream",
     "text": [
      "[('burgers', 0.8277538418769836), ('hamburger', 0.7784732580184937), ('cheeseburger', 0.7732071876525879), ('sandwich', 0.7488894462585449), ('burrito', 0.7377750277519226), ('gourmet_burger', 0.7203285694122314), ('chicken_sandwich', 0.6972609758377075), ('bacon_cheeseburger', 0.6913172602653503), ('fries', 0.6894726753234863), ('taco', 0.6799392104148865)]\n"
     ]
    }
   ],
   "source": [
    "ms=gmodel.most_similar('burger')"
   ]
  },
  {
   "cell_type": "code",
   "execution_count": 111,
   "metadata": {},
   "outputs": [],
   "source": [
    "entities = {\"ORDINAL\", \"LOC\", \"DATE\", \"LANGUAGE\", \"NORP\",\"PRODUCT\", \"GPE\"}\n",
    "\n",
    "def changeQuerry(query):\n",
    "    doc = nlp(query)\n",
    "    queryOptions = []\n",
    "\n",
    "    entitiesToReplace = []\n",
    "    \n",
    "    for ent in doc.ents:\n",
    "        entitiesToReplace.append(ent.text)\n",
    "        \n",
    "    for ent in doc:\n",
    "        print(ent.pos_)\n",
    "        if ent.text in entitiesToReplace:\n",
    "            temp = [ent.text]\n",
    "            sim = gmodel.most_similar(ent.text)\n",
    "            for i in sim:\n",
    "                temp.append(i[0])\n",
    "            queryOptions.append(temp)\n",
    "        else:\n",
    "            queryOptions.append([ent.text])\n",
    "            \n",
    "    for i in range(5):\n",
    "        temp = \"\"\n",
    "        for j in queryOptions:\n",
    "            if len(j) == 1:\n",
    "                temp += str(j) + \" \"\n",
    "            else:\n",
    "                index =  random.randint(len(j))\n",
    "                temp += str(j[index]) + \" \"\n",
    "                \n",
    "                \n",
    "    \n",
    "        \n",
    "    \n",
    "   "
   ]
  },
  {
   "cell_type": "code",
   "execution_count": 112,
   "metadata": {},
   "outputs": [
    {
     "name": "stdout",
     "output_type": "stream",
     "text": [
      "ADJ\n"
     ]
    },
    {
     "name": "stderr",
     "output_type": "stream",
     "text": [
      "C:\\ProgramData\\Anaconda3\\lib\\site-packages\\gensim\\matutils.py:737: FutureWarning: Conversion of the second argument of issubdtype from `int` to `np.signedinteger` is deprecated. In future, it will be treated as `np.int32 == np.dtype(int).type`.\n",
      "  if np.issubdtype(vec.dtype, np.int):\n"
     ]
    },
    {
     "name": "stdout",
     "output_type": "stream",
     "text": [
      "NOUN\n",
      "ADP\n",
      "PRON\n",
      "NOUN\n",
      "ADP\n",
      "PROPN\n",
      "[['Indian', 'India', 'Pakistani', 'Indians', 'ndian', 'Nepali', 'indian', 'Lankan', 'desi', 'Sri_Lankan', 'Bangladeshi'], ['food'], ['near'], ['me'], ['today', 'tomorrow', 'yesterday', 'Thursday', 'Wednesday', 'Monday', 'Tuesday', 'Friday', 'Today', 'Wednesay', 'tommorrow'], ['in'], ['NYC', 'Brooklyn', \"B'klyn\", 'S.F.', 'NY', 'Manhattan', 'L.A.', 'New_York', 'NYer', 'Brookyn', 'N.Y.']]\n"
     ]
    }
   ],
   "source": [
    "changeQuerry(\"Indian food near me today in NYC\")"
   ]
  },
  {
   "cell_type": "code",
   "execution_count": null,
   "metadata": {},
   "outputs": [],
   "source": []
  },
  {
   "cell_type": "code",
   "execution_count": null,
   "metadata": {},
   "outputs": [],
   "source": []
  }
 ],
 "metadata": {
  "kernelspec": {
   "display_name": "Python 3",
   "language": "python",
   "name": "python3"
  },
  "language_info": {
   "codemirror_mode": {
    "name": "ipython",
    "version": 3
   },
   "file_extension": ".py",
   "mimetype": "text/x-python",
   "name": "python",
   "nbconvert_exporter": "python",
   "pygments_lexer": "ipython3",
   "version": "3.7.0"
  }
 },
 "nbformat": 4,
 "nbformat_minor": 2
}
